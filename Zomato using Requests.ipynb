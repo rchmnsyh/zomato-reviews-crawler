{
 "cells": [
  {
   "cell_type": "code",
   "execution_count": 23,
   "metadata": {
    "scrolled": true
   },
   "outputs": [
    {
     "name": "stdout",
     "output_type": "stream",
     "text": [
      "The status code is  200\n",
      "\n",
      "\n"
     ]
    }
   ],
   "source": [
    "import requests\n",
    "from bs4 import BeautifulSoup\n",
    "\n",
    "url = 'https://developers.zomato.com/api/v2.1/reviews?res_id=18403125&count=10'\n",
    "headers = {'user-key': '...'} # Use your own API key\n",
    "\n",
    "res = requests.get(url, headers=headers)\n",
    "# print(\"The status code is \", res.status_code) # if 200 then success\n",
    "# print(\"\\n\")\n",
    "respon = res.json()\n",
    "# respon"
   ]
  },
  {
   "cell_type": "code",
   "execution_count": 24,
   "metadata": {},
   "outputs": [
    {
     "name": "stdout",
     "output_type": "stream",
     "text": [
      "Review yang didapat: 10\n"
     ]
    },
    {
     "data": {
      "text/plain": [
       "['Follow Me On InstaGram : awakdoyankuliner  Bistiknya Mantap Apalagi Nasinya Kyk Ada Butter jadinya Makin Nikmat, Escargots FAVORIT Banget Kalo Tiap Kesini, Ginger Honey Bee-nya Seger',\n",
       " 'KACAU!! Semua makanan disini enak enak! Nggak rugi juga sih kalo harus waiting list. Dan juga ambience nya enak buat kumpul sama temen. Servicenya juga oke bgt. Sayang pas kesana ga cobain mille crepes nya yg katanya enak.',\n",
       " 'Setiap ke Bandung pasti sempetin mampir utk lunch/dinner disini karna udh pasti makanannya enak mau yg asian or western food, harganya jg oke masi standar dan tempatnya cozy buat ngobrol santai.',\n",
       " \"It was okayyyyy, the parking lot was so small tho😭 Salmon mentaiko pasta was very delicious. It's the best menu we ordered that night🤣\",\n",
       " 'Beli omelette sama nasi salmon yg dtg cmn omelette nya doang mana lama bgt lg. Mau beli layered cake best sellernya kosong. NOT COMING AGAIN.',\n",
       " 'Cozy places. Beautifully decorated. And the food I ordered was delicious. Try their Classic Beef Burger. The patty is juicy and the egg is perfect. Must visit!',\n",
       " 'Wow. Just wow! Kita pesen mushroom rolls untuk “snack” dan rupanya bukan snack tapi fullmeal dari porsinya. Selain itu salmon belly sama thai tea mille crepenya itu sempurna. Yang agak kurang ochazuke nya, biasa banget sih.',\n",
       " 'I really love their milkshake! Especially The Marie Regal one. The creaminess to the fullest, dan rasa manisnya tuh pas. Selain itu salmon sambal matah mereka juga enak banget. Sayangnya they grilled it overcook. And i love salmon when it’s still medium rare. Tapi kesalahan ada di aku karna ga minta tingkat kematangan but they should ask the customer about it first. I’ll come back soon after covid, no regrets.',\n",
       " 'makanannya enak semuaa👌🏻',\n",
       " '']"
      ]
     },
     "execution_count": 24,
     "metadata": {},
     "output_type": "execute_result"
    }
   ],
   "source": [
    "review_text = []\n",
    "for i in range(len(respon['user_reviews'])):\n",
    "    review_text.append(respon['user_reviews'][i]['review']['review_text'])\n",
    "print(\"Review yang didapat:\", len(review_text))\n",
    "review_text"
   ]
  },
  {
   "cell_type": "markdown",
   "metadata": {},
   "source": [
    "#### Sekali requests cuma bisa 10 (dari API Zomato nya)\n",
    "The problem is kalau ratingnya gaada reviewnya masih ke GET, terus reviewnya kosong... Hmmm."
   ]
  },
  {
   "cell_type": "code",
   "execution_count": null,
   "metadata": {},
   "outputs": [],
   "source": []
  }
 ],
 "metadata": {
  "kernelspec": {
   "display_name": "Python 3",
   "language": "python",
   "name": "python3"
  },
  "language_info": {
   "codemirror_mode": {
    "name": "ipython",
    "version": 3
   },
   "file_extension": ".py",
   "mimetype": "text/x-python",
   "name": "python",
   "nbconvert_exporter": "python",
   "pygments_lexer": "ipython3",
   "version": "3.7.4"
  }
 },
 "nbformat": 4,
 "nbformat_minor": 2
}
