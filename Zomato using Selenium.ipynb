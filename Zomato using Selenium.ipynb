{
 "cells": [
  {
   "cell_type": "code",
   "execution_count": 7,
   "metadata": {},
   "outputs": [
    {
     "name": "stdout",
     "output_type": "stream",
     "text": [
      "Ini apa  []\n"
     ]
    },
    {
     "data": {
      "text/plain": [
       "0"
      ]
     },
     "execution_count": 7,
     "metadata": {},
     "output_type": "execute_result"
    }
   ],
   "source": [
    "from selenium.webdriver import Chrome\n",
    "import pandas as pd\n",
    "\n",
    "webdriver = \"D:\\chromedriver.exe\"\n",
    "\n",
    "driver = Chrome(webdriver)\n",
    "# pages = 10\n",
    "\n",
    "# for page in range(1,pages):\n",
    "url = \"https://www.zomato.com/bandung/sei-sapi-lamalera-dago/reviews\"\n",
    "driver.get(url)\n",
    "print(\"Ini apa \", driver.find_elements_by_class_name(\"sc-kkbgRg guevug\"))\n",
    "items = len(driver.find_elements_by_class_name(\"sc-kkbgRg guevug\"))\n",
    "# total = []\n",
    "# for item in range(items):\n",
    "#     quotes = driver.find_elements_by_class_name(\"quote\")\n",
    "#     for quote in quotes:\n",
    "#         quote_text = quote.find_element_by_class_name('text').text\n",
    "#         author = quote.find_element_by_class_name('author').text\n",
    "#         new = ((quote_text,author))\n",
    "#         total.append(new)\n",
    "#     df = pd.DataFrame(total,columns=['quote','author'])\n",
    "driver.close()\n",
    "items"
   ]
  },
  {
   "cell_type": "code",
   "execution_count": 5,
   "metadata": {
    "scrolled": true
   },
   "outputs": [
    {
     "data": {
      "text/html": [
       "<div>\n",
       "<style scoped>\n",
       "    .dataframe tbody tr th:only-of-type {\n",
       "        vertical-align: middle;\n",
       "    }\n",
       "\n",
       "    .dataframe tbody tr th {\n",
       "        vertical-align: top;\n",
       "    }\n",
       "\n",
       "    .dataframe thead th {\n",
       "        text-align: right;\n",
       "    }\n",
       "</style>\n",
       "<table border=\"1\" class=\"dataframe\">\n",
       "  <thead>\n",
       "    <tr style=\"text-align: right;\">\n",
       "      <th></th>\n",
       "      <th>quote</th>\n",
       "      <th>author</th>\n",
       "    </tr>\n",
       "  </thead>\n",
       "  <tbody>\n",
       "    <tr>\n",
       "      <th>0</th>\n",
       "      <td>“Anyone who has never made a mistake has never...</td>\n",
       "      <td>Albert Einstein</td>\n",
       "    </tr>\n",
       "    <tr>\n",
       "      <th>1</th>\n",
       "      <td>“A lady's imagination is very rapid; it jumps ...</td>\n",
       "      <td>Jane Austen</td>\n",
       "    </tr>\n",
       "    <tr>\n",
       "      <th>2</th>\n",
       "      <td>“Remember, if the time should come when you ha...</td>\n",
       "      <td>J.K. Rowling</td>\n",
       "    </tr>\n",
       "    <tr>\n",
       "      <th>3</th>\n",
       "      <td>“I declare after all there is no enjoyment lik...</td>\n",
       "      <td>Jane Austen</td>\n",
       "    </tr>\n",
       "    <tr>\n",
       "      <th>4</th>\n",
       "      <td>“There are few people whom I really love, and ...</td>\n",
       "      <td>Jane Austen</td>\n",
       "    </tr>\n",
       "    <tr>\n",
       "      <th>...</th>\n",
       "      <td>...</td>\n",
       "      <td>...</td>\n",
       "    </tr>\n",
       "    <tr>\n",
       "      <th>95</th>\n",
       "      <td>“Some day you will be old enough to start read...</td>\n",
       "      <td>C.S. Lewis</td>\n",
       "    </tr>\n",
       "    <tr>\n",
       "      <th>96</th>\n",
       "      <td>“We are not necessarily doubting that God will...</td>\n",
       "      <td>C.S. Lewis</td>\n",
       "    </tr>\n",
       "    <tr>\n",
       "      <th>97</th>\n",
       "      <td>“The fear of death follows from the fear of li...</td>\n",
       "      <td>Mark Twain</td>\n",
       "    </tr>\n",
       "    <tr>\n",
       "      <th>98</th>\n",
       "      <td>“A lie can travel half way around the world wh...</td>\n",
       "      <td>Mark Twain</td>\n",
       "    </tr>\n",
       "    <tr>\n",
       "      <th>99</th>\n",
       "      <td>“I believe in Christianity as I believe that t...</td>\n",
       "      <td>C.S. Lewis</td>\n",
       "    </tr>\n",
       "  </tbody>\n",
       "</table>\n",
       "<p>100 rows × 2 columns</p>\n",
       "</div>"
      ],
      "text/plain": [
       "                                                quote           author\n",
       "0   “Anyone who has never made a mistake has never...  Albert Einstein\n",
       "1   “A lady's imagination is very rapid; it jumps ...      Jane Austen\n",
       "2   “Remember, if the time should come when you ha...     J.K. Rowling\n",
       "3   “I declare after all there is no enjoyment lik...      Jane Austen\n",
       "4   “There are few people whom I really love, and ...      Jane Austen\n",
       "..                                                ...              ...\n",
       "95  “Some day you will be old enough to start read...       C.S. Lewis\n",
       "96  “We are not necessarily doubting that God will...       C.S. Lewis\n",
       "97  “The fear of death follows from the fear of li...       Mark Twain\n",
       "98  “A lie can travel half way around the world wh...       Mark Twain\n",
       "99  “I believe in Christianity as I believe that t...       C.S. Lewis\n",
       "\n",
       "[100 rows x 2 columns]"
      ]
     },
     "execution_count": 5,
     "metadata": {},
     "output_type": "execute_result"
    }
   ],
   "source": [
    "df"
   ]
  },
  {
   "cell_type": "code",
   "execution_count": null,
   "metadata": {},
   "outputs": [],
   "source": []
  }
 ],
 "metadata": {
  "kernelspec": {
   "display_name": "Python 3",
   "language": "python",
   "name": "python3"
  },
  "language_info": {
   "codemirror_mode": {
    "name": "ipython",
    "version": 3
   },
   "file_extension": ".py",
   "mimetype": "text/x-python",
   "name": "python",
   "nbconvert_exporter": "python",
   "pygments_lexer": "ipython3",
   "version": "3.7.4"
  }
 },
 "nbformat": 4,
 "nbformat_minor": 2
}
